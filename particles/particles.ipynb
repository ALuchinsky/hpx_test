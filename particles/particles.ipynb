{
 "cells": [
  {
   "cell_type": "code",
   "execution_count": 1,
   "id": "e5dcfa4b-242c-46ed-9591-cc376e85bdc5",
   "metadata": {},
   "outputs": [],
   "source": [
    "import pdg"
   ]
  },
  {
   "cell_type": "code",
   "execution_count": 4,
   "id": "d8ac71de-7ba9-4e36-8d0c-fc49a2ac008d",
   "metadata": {},
   "outputs": [],
   "source": [
    "api = pdg.connect()"
   ]
  },
  {
   "cell_type": "code",
   "execution_count": 118,
   "id": "368c54cc-8c93-41e8-a71f-1d880fb5e010",
   "metadata": {},
   "outputs": [],
   "source": [
    "all_particles = list(api.get_particles())"
   ]
  },
  {
   "cell_type": "code",
   "execution_count": 120,
   "id": "44e95075-cefe-4d9b-bfca-477afc1e0954",
   "metadata": {},
   "outputs": [
    {
     "name": "stdout",
     "output_type": "stream",
     "text": [
      "[1, 2, 3, 4, 5, 6, 7, 8, 9]\n"
     ]
    }
   ],
   "source": [
    "    nested_list = [[1, 2, 3], [4, 5, 6], [7, 8, 9]]\n",
    "    flattened_list = [item for sublist in nested_list for item in sublist]\n",
    "    print(flattened_list)"
   ]
  },
  {
   "cell_type": "code",
   "execution_count": 128,
   "id": "d4946f43-1c2a-4f49-a062-befa0b57276f",
   "metadata": {},
   "outputs": [
    {
     "data": {
      "text/plain": [
       "1152"
      ]
     },
     "execution_count": 128,
     "metadata": {},
     "output_type": "execute_result"
    }
   ],
   "source": [
    "particles = [p for pl in api.get_particles() for p in pl if p.is_meson or p.is_baryon or p.is_lepton or p.is_boson]\n",
    "len(particles)"
   ]
  },
  {
   "cell_type": "code",
   "execution_count": 178,
   "id": "27eca8e1-4ae6-4174-9204-d56c9f4b4da1",
   "metadata": {},
   "outputs": [
    {
     "name": "stdout",
     "output_type": "stream",
     "text": [
      "name =  pi(1800)0\n"
     ]
    }
   ],
   "source": [
    "p = particles[101]\n",
    "print(\"name = \", p.name)\n",
    "for decay in p.exclusive_branching_fractions():\n",
    "    decay_products = [p.item.name for p in decay.decay_products]"
   ]
  },
  {
   "cell_type": "code",
   "execution_count": 184,
   "id": "56af4d26-d416-40d1-b89d-e864a95f1978",
   "metadata": {},
   "outputs": [
    {
     "data": {
      "text/plain": [
       "[PdgParticle('M018/2025', name='K^*(892)0'),\n",
       " PdgParticle('M018/2025', name='Kbar^*(892)0'),\n",
       " PdgParticle('M018/2025', name='K^*(892)+'),\n",
       " PdgParticle('M018/2025', name='K^*(892)-')]"
      ]
     },
     "execution_count": 184,
     "metadata": {},
     "output_type": "execute_result"
    }
   ],
   "source": [
    "api.get_particles_by_name(\"K^*(892)\")"
   ]
  },
  {
   "cell_type": "code",
   "execution_count": 190,
   "id": "930b144d-e88b-425d-b308-bbbebd1deeb5",
   "metadata": {},
   "outputs": [
    {
     "data": {
      "text/plain": [
       "0.8916738546389706"
      ]
     },
     "execution_count": 190,
     "metadata": {},
     "output_type": "execute_result"
    }
   ],
   "source": [
    "decay.decay_products[0].item.particles[3].mass"
   ]
  },
  {
   "cell_type": "code",
   "execution_count": 117,
   "id": "e35c4a3f-1c69-4612-8d88-f39c32210571",
   "metadata": {},
   "outputs": [
    {
     "name": "stdout",
     "output_type": "stream",
     "text": [
      "There are 422 mesons of 224 different types\n",
      "There are 710 baryons of 191 different types\n"
     ]
    }
   ],
   "source": [
    "mesons = [p for p in all_particles if p[0].is_meson]\n",
    "n_mesons = sum([len(p) for p in mesons])\n",
    "print(f\"There are {n_mesons} mesons of {len(mesons)} different types\")\n",
    "\n",
    "baryons = [p for p in all_particles if p[0].is_baryon]\n",
    "n_baryons = sum([len(p) for p in baryons])\n",
    "print(f\"There are {n_baryons} baryons of {len(baryons)} different types\")\n",
    "\n"
   ]
  },
  {
   "cell_type": "code",
   "execution_count": null,
   "id": "fb9af492-c1cc-4663-a08f-0253bf7e505e",
   "metadata": {},
   "outputs": [],
   "source": []
  },
  {
   "cell_type": "code",
   "execution_count": 108,
   "id": "d85defef-8379-4b28-934b-1b4871184fb2",
   "metadata": {},
   "outputs": [
    {
     "name": "stdout",
     "output_type": "stream",
     "text": [
      "Data for PDG Identifier M064M/2025: K_1(1400) MASS\n",
      "Data for PDG Identifier M064W/2025: K_1(1400) WIDTH\n",
      "Data for PDG Identifier M064R9/2025: D-wave/S-wave RATIO FOR K_1(1400) --> K*(892) pi\n"
     ]
    }
   ],
   "source": [
    "for p in all_particles[110][2].properties():\n",
    "    print(p)"
   ]
  },
  {
   "cell_type": "code",
   "execution_count": 66,
   "id": "202e0aec-3727-4611-99e3-70a61b87ee8e",
   "metadata": {},
   "outputs": [
    {
     "name": "stdout",
     "output_type": "stream",
     "text": [
      "      S008M/2025:  pi+- MASS                                                       139.57039+-0.00018\n",
      "     S008DM/2025:  (mass(pi+)-mass(pi-))/mass(average)                             2+-5\n",
      "      S008T/2025:  pi+- MEAN LIFE                                                  2.6033+-0.0005\n",
      "     S008DT/2025:  (meanlife(pi+)-meanlife(pi-))/meanlife(average)                 6+-7\n",
      "    S008EPL/2025:  pi ELECTRIC POLARIZABILITY alpha(pi)                            2.0+-0.9\n",
      "     S008FV/2025:  F(V), VECTOR FORM FACTOR                                        0.0254+-0.0017\n",
      "     S008FA/2025:  F(A), AXIAL-VECTOR FORM FACTOR                                  0.0119+-0.0001\n",
      "    S008FSV/2025:  VECTOR FORM FACTOR SLOPE PARAMETER a                            0.10+-0.06\n",
      "     S008FR/2025:  R, SECOND AXIAL-VECTOR FORM FACTOR                              0.059+0.009-0.008\n",
      "     S008CR/2025:  pi+- CHARGE RADIUS                                              0.659+-0.004\n"
     ]
    }
   ],
   "source": [
    "for p in api.get_particle_by_mcid(211).properties():\n",
    "    print('%16s:  %-60s    %s' % (p.pdgid, p.description, p.display_value_text))"
   ]
  },
  {
   "cell_type": "code",
   "execution_count": 58,
   "id": "e5dcbd7f-aa1c-4c9a-86d0-9951c700ac3f",
   "metadata": {},
   "outputs": [
    {
     "data": {
      "text/plain": [
       "PdgParticleList('M011/2025')"
      ]
     },
     "execution_count": 58,
     "metadata": {},
     "output_type": "execute_result"
    }
   ],
   "source": [
    "api.get(all_particles[30].pdgid)"
   ]
  },
  {
   "cell_type": "code",
   "execution_count": 57,
   "id": "3f16deef-d74e-4328-8658-f3d219c99400",
   "metadata": {},
   "outputs": [
    {
     "data": {
      "text/plain": [
       "\u001b[31mInit signature:\u001b[39m pdg.particle.PdgParticleList(api, pdgid, edition=\u001b[38;5;28;01mNone\u001b[39;00m)\n",
       "\u001b[31mDocstring:\u001b[39m     \n",
       "A PdgData subclass to represent a list of PdgParticles. A PdgParticleList\n",
       "is returned when PdgApi.get is called with the PDGID of a (group of)\n",
       "particles.\n",
       "\u001b[31mInit docstring:\u001b[39m Constructor for a PdgParticleList given its PDG Identifier.\n",
       "\u001b[31mFile:\u001b[39m           /opt/anaconda3/envs/hpx_test/lib/python3.13/site-packages/pdg/particle.py\n",
       "\u001b[31mType:\u001b[39m           type\n",
       "\u001b[31mSubclasses:\u001b[39m     "
      ]
     },
     "metadata": {},
     "output_type": "display_data"
    }
   ],
   "source": [
    "?pdg.particle.PdgParticleList"
   ]
  },
  {
   "cell_type": "code",
   "execution_count": 56,
   "id": "4064fda0-45d1-4c70-8d14-363e374d1958",
   "metadata": {},
   "outputs": [
    {
     "data": {
      "text/plain": [
       "pdg.particle.PdgParticleList"
      ]
     },
     "execution_count": 56,
     "metadata": {},
     "output_type": "execute_result"
    }
   ],
   "source": [
    "type(part)"
   ]
  },
  {
   "cell_type": "code",
   "execution_count": 42,
   "id": "d6c9e8c0-69a6-440b-b037-e0059ef1b09f",
   "metadata": {},
   "outputs": [
    {
     "data": {
      "text/plain": [
       "434"
      ]
     },
     "execution_count": 42,
     "metadata": {},
     "output_type": "execute_result"
    }
   ],
   "source": [
    "len(all_particles)"
   ]
  },
  {
   "cell_type": "code",
   "execution_count": 41,
   "id": "0fdb17d2-35fa-4a84-917f-cdb649a154aa",
   "metadata": {},
   "outputs": [
    {
     "name": "stdout",
     "output_type": "stream",
     "text": [
      "J/psi(1S) --> e+ e-                                             False    0.0597104969174883\n",
      "J/psi(1S) --> mu+ mu-                                           False    0.0596122055389892\n",
      "J/psi(1S) --> rho pi                                            False    0.0187778020254525\n",
      "J/psi(1S) --> a_2(1320) rho                                     False    0.0108759170062986\n",
      "J/psi(1S) --> eta pi+ pi- pi0                                   False    0.01171923282020203\n",
      "J/psi(1S) --> rho+- pi-+ pi+ pi- 2pi0                           False    0.02803213648710797\n",
      "J/psi(1S) --> omega pi+ pi- 2pi0                                False    0.03343650465576704\n",
      "J/psi(1S) --> 2(pi+ pi-) pi0                                    False    0.0421564190535209\n",
      "J/psi(1S) --> 3(pi+ pi-) pi0                                    False    0.0286230769230769\n",
      "J/psi(1S) --> pi+ pi- 3pi0                                      False    0.0187859880393447\n",
      "J/psi(1S) --> pi+ pi- pi0                                       False    0.0199631816755924\n",
      "J/psi(1S) --> 2(pi+ pi- pi0)                                    False    0.01609587191840393\n",
      "J/psi(1S) --> pi+ pi- pi0 K+ K-                                 False    0.0151558441558442\n",
      "J/psi(1S) --> 2(pi+ pi-) 3pi0                                   False    0.06239411024549837\n",
      "J/psi(1S) --> K^*(892)+ K^*(892)- pi0                           False    0.01123093984418971\n",
      "J/psi(1S) --> gamma eta_c(1S)                                   False    0.01411705079929764\n"
     ]
    }
   ],
   "source": [
    "psi = api.get_particle_by_name(\"J/psi(1S)\")\n",
    "for bf in psi.exclusive_branching_fractions():\n",
    "    if (bf.value is None) or bf.value < 0.01 or (\"hadrons\" in bf.description):\n",
    "        continue\n",
    "    print('%-60s    %4s    %s' % (bf.description, bf.is_limit, bf.value))"
   ]
  },
  {
   "cell_type": "code",
   "execution_count": 13,
   "id": "aa00ae52-2d7b-48ff-a2f3-2cf22cf48ac5",
   "metadata": {},
   "outputs": [
    {
     "data": {
      "text/plain": [
       "PdgProperty('S000Q/2025')"
      ]
     },
     "execution_count": 13,
     "metadata": {},
     "output_type": "execute_result"
    }
   ],
   "source": [
    "all_particles[2]"
   ]
  }
 ],
 "metadata": {
  "kernelspec": {
   "display_name": "Python 3 (ipykernel)",
   "language": "python",
   "name": "python3"
  },
  "language_info": {
   "codemirror_mode": {
    "name": "ipython",
    "version": 3
   },
   "file_extension": ".py",
   "mimetype": "text/x-python",
   "name": "python",
   "nbconvert_exporter": "python",
   "pygments_lexer": "ipython3",
   "version": "3.13.7"
  }
 },
 "nbformat": 4,
 "nbformat_minor": 5
}
