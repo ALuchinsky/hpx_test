{
 "cells": [
  {
   "cell_type": "code",
   "execution_count": null,
   "id": "db1b31b4-c513-445b-9da1-66a0556509a3",
   "metadata": {},
   "outputs": [],
   "source": [
    "import pandas as pd\n",
    "import json\n",
    "import hypernetx as hnx\n",
    "import numpy as np\n",
    "import networkx as nx\n",
    "import matplotlib.pyplot as plt\n",
    "import os\n",
    "import glob\n",
    "from tqdm.notebook import tqdm"
   ]
  },
  {
   "cell_type": "markdown",
   "id": "a39da602-7388-4fdc-9acb-c7516de7476e",
   "metadata": {},
   "source": [
    "## Load Data"
   ]
  },
  {
   "cell_type": "code",
   "execution_count": null,
   "id": "dd7ed7d5-e153-4d21-a79d-09429e509a93",
   "metadata": {},
   "outputs": [],
   "source": [
    "?os.listdir"
   ]
  },
  {
   "cell_type": "code",
   "execution_count": null,
   "id": "e3976b62-f97d-400f-8cdc-d555de463f4b",
   "metadata": {},
   "outputs": [],
   "source": [
    "paps = []\n",
    "for f_name in glob.glob(\"./data/*.json\"):\n",
    "    with open(f_name, \"r\") as f:\n",
    "        dat = json.load(f)\n",
    "        paps = paps + dat[\"hits\"][\"hits\"]\n",
    "print(f\"{len(paps)} papers loaded\")"
   ]
  },
  {
   "cell_type": "code",
   "execution_count": null,
   "id": "11e7de56-0c43-4a91-a679-81344a6eb0cc",
   "metadata": {},
   "outputs": [],
   "source": [
    "# file downloaded using\n",
    "#     wget \"https://inspirehep.net/api/literature?sort=mostrecent&size=1000&page=1&q=find%20a%20t%20psi%20or%20t%20chi%20or%20t%20charmonium%20or%20t%20charmonia\" -O papers_1000_1.json\n",
    "# with open(\"./data/papers_1000_1.json\", \"r\") as f:\n",
    "#     dat = json.load(f)\n",
    "#     paps = dat[\"hits\"][\"hits\"]"
   ]
  },
  {
   "cell_type": "markdown",
   "id": "b8898e6e-6096-41c6-ac83-94bf9dcc754e",
   "metadata": {},
   "source": [
    "### How to Get Different Elemens"
   ]
  },
  {
   "cell_type": "code",
   "execution_count": null,
   "id": "b62824c7-6b20-4431-a4c8-e58e801868a8",
   "metadata": {},
   "outputs": [],
   "source": [
    "def get_authors(pap):\n",
    "    if \"authors\" in pap[\"metadata\"].keys():\n",
    "        return [a[\"full_name\"] for a in pap[\"metadata\"][\"authors\"]]\n",
    "    else:\n",
    "        return []\n",
    "def get_title(pap):\n",
    "    return pap[\"metadata\"][\"titles\"][0][\"title\"]\n",
    "\n",
    "def get_type(pap):\n",
    "    return pap[\"metadata\"][\"primary_arxiv_category\"]\n",
    "    \n",
    "def get_id(pap):\n",
    "    return pap[\"id\"]"
   ]
  },
  {
   "cell_type": "markdown",
   "id": "9e927b34-ca5d-4282-a746-3999ab1a192d",
   "metadata": {},
   "source": [
    "## HyperGraph"
   ]
  },
  {
   "cell_type": "code",
   "execution_count": null,
   "id": "d4df2b1d-06ae-42c3-be2a-17f8efd992cf",
   "metadata": {},
   "outputs": [],
   "source": [
    "paps_dict = { get_id(p):[a for a in get_authors(p)] for p in paps}"
   ]
  },
  {
   "cell_type": "code",
   "execution_count": null,
   "id": "8bc13660-e282-4a8c-b400-befc8d2124ca",
   "metadata": {},
   "outputs": [],
   "source": [
    "H = hnx.Hypergraph(paps_dict)\n",
    "H.shape"
   ]
  },
  {
   "cell_type": "markdown",
   "id": "c2a7e1eb-f8c6-4590-ab03-5616c993239f",
   "metadata": {},
   "source": [
    "### Simple distributions"
   ]
  },
  {
   "cell_type": "code",
   "execution_count": null,
   "id": "55fa3bec-ffd9-4854-9db6-40236ae5bd83",
   "metadata": {},
   "outputs": [],
   "source": [
    "authors = list(H.nodes.items)"
   ]
  },
  {
   "cell_type": "code",
   "execution_count": null,
   "id": "a01be4ea-0f0e-4887-b35d-05ebbec37ded",
   "metadata": {},
   "outputs": [],
   "source": [
    "def plot_loghist(x, bins, ax=None, title = None):\n",
    "    if ax is None:\n",
    "        ax = plt.gca()\n",
    "    x = [x_ for x_ in x if x_>0]\n",
    "    hist, bins = np.histogram(x, bins=bins)\n",
    "    logbins = np.logspace(np.log10(bins[0]),np.log10(bins[-1]),len(bins))\n",
    "    ax.hist(x, bins=logbins)\n",
    "    ax.set_xscale('log')\n",
    "    if(title):\n",
    "        ax.set_xlabel(title)"
   ]
  },
  {
   "cell_type": "code",
   "execution_count": null,
   "id": "f30555d5-dfb3-46f5-8302-2f84d4f9d5d5",
   "metadata": {},
   "outputs": [],
   "source": [
    "fig, axes = plt.subplots(1,2, figsize=(8,4))\n",
    "edge_sizes = hnx.edge_size_dist(H)\n",
    "node_sizes = [H.degree(n, s=1) for n in H.nodes]\n",
    "plot_loghist(edge_sizes, 20, axes[0], title = \"# authors for paper\")\n",
    "plot_loghist(node_sizes, 20, axes[1], title = \"# papers for authors\")\n",
    "plt.show()"
   ]
  },
  {
   "cell_type": "markdown",
   "id": "80eec9db-bef4-403f-8d1a-661d9372a159",
   "metadata": {},
   "source": [
    "### Author List"
   ]
  },
  {
   "cell_type": "code",
   "execution_count": null,
   "id": "2f707f9e-23fe-4c79-98ab-25aa3839ae9f",
   "metadata": {},
   "outputs": [],
   "source": [
    "\"Luchinsky, A.V.\" in H.nodes.items"
   ]
  },
  {
   "cell_type": "markdown",
   "id": "b103979a-9e64-412a-8b33-0cb45641deaf",
   "metadata": {},
   "source": [
    "### Connected Componets"
   ]
  },
  {
   "cell_type": "code",
   "execution_count": null,
   "id": "a7ee4aca-6cb3-4292-9f15-c3f255748603",
   "metadata": {},
   "outputs": [],
   "source": [
    "print(\"1-component subgraphs\")\n",
    "n=0\n",
    "for comp in tqdm(H.s_component_subgraphs(s=1)):\n",
    "    n += 1"
   ]
  },
  {
   "cell_type": "code",
   "execution_count": null,
   "id": "24f33c37-5410-46d8-a266-cbfc322f9c84",
   "metadata": {},
   "outputs": [],
   "source": [
    "comp_sizes = [[comp.shape, comp.nodes.items, comp.edges.items] for comp in tqdm(H.s_component_subgraphs(s=3))]\n",
    "print(\"There are \", len(comp_sizes), \" connected components\")"
   ]
  },
  {
   "cell_type": "code",
   "execution_count": null,
   "id": "296bfec5-a52d-41f7-a422-d74cd162aeb5",
   "metadata": {},
   "outputs": [],
   "source": [
    "sorted_comps = sorted(comp_sizes, key=lambda x: x[0])[::-1]"
   ]
  },
  {
   "cell_type": "code",
   "execution_count": null,
   "id": "4eaf7141-efe9-4297-a4ed-0fda6ccdd0b4",
   "metadata": {},
   "outputs": [],
   "source": [
    "plt.bar(range(len(sorted_comps)), [c[0][0] for c in sorted_comps])\n",
    "plt.ylim(0, 25)\n",
    "plt.title(\"Connected Components\")\n",
    "plt.show()"
   ]
  },
  {
   "cell_type": "markdown",
   "id": "4e59a066-e491-4f93-b7fa-c502b2e279f1",
   "metadata": {},
   "source": [
    "Here are some plots"
   ]
  },
  {
   "cell_type": "code",
   "execution_count": null,
   "id": "5ba82b1e-9b1a-4cd0-a385-7369979d9b1b",
   "metadata": {},
   "outputs": [],
   "source": [
    "np.random.seed(1)\n",
    "min_ = 13\n",
    "fig = plt.figure(figsize=(16, 8))\n",
    "# fig, axes = plt.subplots(nrows=1, ncols=3, figsize = (12, 4))\n",
    "for i in range(6):\n",
    "    h = H.restrict_to_nodes( sorted_comps[min_+i][1])\n",
    "    # h = h.toplexes(return_hyp=True)\n",
    "    plt.subplot(2, 3, i+1)\n",
    "    hnx.draw(h)\n",
    "    plt.title(\"[#\" + str(min_+i) + ']='+str(sorted_comps[min_+i][0][0]))\n"
   ]
  },
  {
   "cell_type": "markdown",
   "id": "763436c9-8e13-4d48-a473-5e35367e04d6",
   "metadata": {},
   "source": [
    "### Diameters and Distances"
   ]
  },
  {
   "cell_type": "markdown",
   "id": "cdfc3433-12da-4e3a-8010-eccd0e4d55bc",
   "metadata": {},
   "source": [
    "#### The largest component"
   ]
  },
  {
   "cell_type": "code",
   "execution_count": null,
   "id": "9079f5cf-d953-4c3f-b411-45ee520bb539",
   "metadata": {},
   "outputs": [],
   "source": [
    "# Diameter of the largest componet\n",
    "h_max = H.restrict_to_nodes(sorted_comps[0][1])\n",
    "print(\"[]=\", h_max.shape)\n",
    "print(\"edge_diameter = \", h_max.edge_diameter())"
   ]
  },
  {
   "cell_type": "markdown",
   "id": "694202da-53fa-4cde-ab11-86b60d7c800f",
   "metadata": {},
   "source": [
    "It requies lots of time to work with it, collapsing edges and nodes"
   ]
  },
  {
   "cell_type": "code",
   "execution_count": null,
   "id": "d18d5df3-8d4b-4af4-a258-15d8ce81c0c2",
   "metadata": {},
   "outputs": [],
   "source": [
    "h_max_c = h_max.collapse_nodes_and_edges()\n",
    "print(\"[] = \", h_max_c.shape)\n",
    "[h_max_c.diameter(), h_max_c.edge_diameter()]"
   ]
  },
  {
   "cell_type": "markdown",
   "id": "57256ca8-30bf-4604-bb04-744a7ab20ef5",
   "metadata": {},
   "source": [
    "Here is a distance between some authors"
   ]
  },
  {
   "cell_type": "code",
   "execution_count": null,
   "id": "414d56ed-0915-4c7a-814c-b6b7330ac58e",
   "metadata": {},
   "outputs": [],
   "source": [
    "au = list(h_max_c.nodes)\n",
    "a1, a2 = au[1], au[10]\n",
    "print(\"|(\", a1, \")-(\", a2, \")|=\", h_max_c.distance(a1, a2))"
   ]
  },
  {
   "cell_type": "markdown",
   "id": "1643c0d7-546a-4226-afed-3966056db06e",
   "metadata": {},
   "source": [
    "#### Smaller Cluster"
   ]
  },
  {
   "cell_type": "code",
   "execution_count": null,
   "id": "a4b0a3f5-9211-443b-8a97-c8023f240f77",
   "metadata": {},
   "outputs": [],
   "source": [
    "sorted_comps[2][0]"
   ]
  },
  {
   "cell_type": "code",
   "execution_count": null,
   "id": "58cebc37-ff7c-4392-8fb6-25b912c44031",
   "metadata": {},
   "outputs": [],
   "source": [
    "np.random.seed(122)\n",
    "h = H.restrict_to_nodes(sorted_comps[5][1])\n",
    "# h = h.toplexes(return_hyp=True)\n",
    "hnx.draw(h)\n",
    "[h.diameter(s=1), h.edge_diameter()]"
   ]
  },
  {
   "cell_type": "code",
   "execution_count": null,
   "id": "be379505-104f-4d6d-ac2f-7aecd1923447",
   "metadata": {},
   "outputs": [],
   "source": [
    "au = list(h.nodes.items)\n",
    "a1, a2 = au[1], au[4]\n",
    "print(\"|'\", a1, \"'-'\", a2, \"'|=\", h.distance(a1, a2))"
   ]
  },
  {
   "cell_type": "markdown",
   "id": "db198d45-d469-4cbd-92e1-16154e7fa8a1",
   "metadata": {},
   "source": [
    "With s=2 this cluster is not connected, here are diameters and content of the sub-clusters"
   ]
  },
  {
   "cell_type": "code",
   "execution_count": null,
   "id": "c1bf4403-d6e7-46f4-9dc0-7a93fecde925",
   "metadata": {},
   "outputs": [],
   "source": [
    "h.node_diameters(s=2)"
   ]
  },
  {
   "cell_type": "markdown",
   "id": "275aa803-9a48-4a76-8fbc-e058fee9c5df",
   "metadata": {},
   "source": [
    "## LineGraphs"
   ]
  },
  {
   "cell_type": "code",
   "execution_count": null,
   "id": "b5ac9f8d-3f5b-4883-9205-c5d27bab5fa6",
   "metadata": {},
   "outputs": [],
   "source": [
    "fig, axes = plt.subplots(1, 2, figsize = (12, 4))\n",
    "bh = h.bipartite()\n",
    "top = nx.bipartite.sets(bh)[0]\n",
    "pos = nx.bipartite_layout(bh, top)\n",
    "nx.draw(bh, with_labels = True, ax=axes[0], pos = pos)\n",
    "hnx.draw_bipartite_using_euler(h, pos=pos, ax=axes[1])"
   ]
  },
  {
   "cell_type": "markdown",
   "id": "a8a83ea8-b262-498d-b9fa-a393d06b5058",
   "metadata": {},
   "source": [
    "## Walks"
   ]
  },
  {
   "cell_type": "code",
   "execution_count": null,
   "id": "53e4f699-fae5-47f8-a6d3-d6dd765cef17",
   "metadata": {},
   "outputs": [],
   "source": [
    "h.diameter()"
   ]
  },
  {
   "cell_type": "code",
   "execution_count": null,
   "id": "028533cb-2197-4f44-81c3-66557ea633e8",
   "metadata": {},
   "outputs": [],
   "source": [
    "mat, rindex = h.adjacency_matrix(s=1, index=True)\n",
    "G = nx.from_numpy_array(mat.todense())"
   ]
  },
  {
   "cell_type": "code",
   "execution_count": null,
   "id": "f0f55a09-0248-4e3e-aa92-04e39d84d4cf",
   "metadata": {},
   "outputs": [],
   "source": [
    "h.incidence_dataframe().shape"
   ]
  },
  {
   "cell_type": "code",
   "execution_count": null,
   "id": "aae392c3-f518-422c-8f10-2d06cbd7519d",
   "metadata": {},
   "outputs": [],
   "source": [
    "rindex"
   ]
  },
  {
   "cell_type": "code",
   "execution_count": null,
   "id": "5ba462b1-75d7-456d-b0dc-67f481ee6c4b",
   "metadata": {},
   "outputs": [],
   "source": [
    "i1, i2  = 1, 12\n",
    "name1, name2 = rindex[i1], rindex[i2]\n",
    "h.distance(name1, name2)"
   ]
  },
  {
   "cell_type": "code",
   "execution_count": null,
   "id": "e5e9731d-650d-462d-8bf0-9f47d82e123b",
   "metadata": {},
   "outputs": [],
   "source": [
    "hb = h.bipartite()\n",
    "path = nx.shortest_path(hb, source=name1, target=name2)\n",
    "path"
   ]
  },
  {
   "cell_type": "code",
   "execution_count": null,
   "id": "746f84e0-b48a-46a6-abbc-af42ff2de828",
   "metadata": {},
   "outputs": [],
   "source": [
    "# # Check\n",
    "# np.all([\n",
    "#     h.incidence_dataframe().loc[name1,]['1637222'] == 1,\n",
    "#     h.incidence_dataframe().loc['Zhao, Qiang',]['1637222'] == 1,\n",
    "#     h.incidence_dataframe().loc['Zhao, Qiang',]['1254432'] == 1,\n",
    "#     h.incidence_dataframe().loc['Guo, Feng-Kun',]['1254432'] == 1,\n",
    "#     h.incidence_dataframe().loc['Guo, Feng-Kun',]['2778309'] == 1,\n",
    "#     h.incidence_dataframe().loc[name2,]['2778309'] == 1\n",
    "# ])    "
   ]
  },
  {
   "cell_type": "code",
   "execution_count": null,
   "id": "c0568135-57c1-4aba-be2c-3ea9834d2e93",
   "metadata": {},
   "outputs": [],
   "source": [
    "path_nodes = [a for a in path if a in h.nodes]\n",
    "path_edges = [a for a in path if a in h.edges]\n",
    "H_path = H.restrict_to_nodes(path_nodes).restrict_to_edges(path_edges)"
   ]
  },
  {
   "cell_type": "code",
   "execution_count": null,
   "id": "24279577-49e4-4bb7-a8ec-7c9426de3f4a",
   "metadata": {},
   "outputs": [],
   "source": [
    "# 1. Set up the hypergraph and find the path\n",
    "path = nx.shortest_path(hb, name1, name2)\n",
    "print(f\"The shortest path is: {path}\")"
   ]
  },
  {
   "cell_type": "code",
   "execution_count": null,
   "id": "4d6521d1-4175-4f4c-9a09-e53832f9e75d",
   "metadata": {},
   "outputs": [],
   "source": [
    "# 3. Create a subgraph and set colors for plotting\n",
    "# Separate the path into nodes and hyperedges\n",
    "path_nodes = [n for n in path if n in h.nodes()]\n",
    "path_edges = [e for e in path if e in h.edges()]"
   ]
  },
  {
   "cell_type": "code",
   "execution_count": null,
   "id": "ac905ed0-0bb5-4e0e-9fee-969a67c55dc4",
   "metadata": {},
   "outputs": [],
   "source": [
    "# Set custom colors for the nodes and edges\n",
    "node_colors = [\"blue\" if node in path_nodes else \"gray\" for node in h.nodes()]\n",
    "edge_colors = [\"red\" if edge in path_edges else \"lightgray\" for edge in h.edges()]\n",
    "np.random.seed(122)\n",
    "# 4. Plot the hypergraph with highlighted path\n",
    "ax = plt.gca()\n",
    "hnx.draw(h,  ax=ax,with_edge_labels = False, \n",
    "             nodes_kwargs={\"facecolors\": node_colors},\n",
    "    edges_kwargs={\"facecolors\": edge_colors, \"edgecolors\": \"black\"},\n",
    "\n",
    "        )\n",
    "ax.set_title(f\"Shortest Path from {path_nodes[0]} to {path_nodes[-1]}\")\n",
    "plt.show()\n",
    "print(f\"The shortest path is: {path}\")"
   ]
  }
 ],
 "metadata": {
  "kernelspec": {
   "display_name": "Python 3 (ipykernel)",
   "language": "python",
   "name": "python3"
  },
  "language_info": {
   "codemirror_mode": {
    "name": "ipython",
    "version": 3
   },
   "file_extension": ".py",
   "mimetype": "text/x-python",
   "name": "python",
   "nbconvert_exporter": "python",
   "pygments_lexer": "ipython3",
   "version": "3.13.7"
  }
 },
 "nbformat": 4,
 "nbformat_minor": 5
}
