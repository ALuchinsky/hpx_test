{
 "cells": [
  {
   "cell_type": "code",
   "execution_count": null,
   "id": "db1b31b4-c513-445b-9da1-66a0556509a3",
   "metadata": {},
   "outputs": [],
   "source": [
    "import pandas as pd\n",
    "import json\n",
    "import hypernetx as hnx\n",
    "import numpy as np\n",
    "import networkx as nx\n",
    "import matplotlib.pyplot as plt\n",
    "import os\n",
    "import glob\n",
    "from tqdm.notebook import tqdm"
   ]
  },
  {
   "cell_type": "markdown",
   "id": "a39da602-7388-4fdc-9acb-c7516de7476e",
   "metadata": {},
   "source": [
    "## Load Data"
   ]
  },
  {
   "cell_type": "code",
   "execution_count": null,
   "id": "e3976b62-f97d-400f-8cdc-d555de463f4b",
   "metadata": {},
   "outputs": [],
   "source": [
    "paps = []\n",
    "for f_name in glob.glob(\"./data/*.json\"):\n",
    "    with open(f_name, \"r\") as f:\n",
    "        dat = json.load(f)\n",
    "        paps = paps + dat[\"hits\"][\"hits\"]\n",
    "print(f\"{len(paps)} papers loaded\")"
   ]
  },
  {
   "cell_type": "markdown",
   "id": "b8898e6e-6096-41c6-ac83-94bf9dcc754e",
   "metadata": {},
   "source": [
    "### How to Get Different Elemens"
   ]
  },
  {
   "cell_type": "code",
   "execution_count": null,
   "id": "b62824c7-6b20-4431-a4c8-e58e801868a8",
   "metadata": {},
   "outputs": [],
   "source": [
    "def get_authors(pap):\n",
    "    if \"authors\" in pap[\"metadata\"].keys():\n",
    "        return [a[\"full_name\"] for a in pap[\"metadata\"][\"authors\"]]\n",
    "    else:\n",
    "        return []\n",
    "def get_title(pap):\n",
    "    return pap[\"metadata\"][\"titles\"][0][\"title\"]\n",
    "\n",
    "def get_type(pap):\n",
    "    return pap[\"metadata\"][\"primary_arxiv_category\"]\n",
    "    \n",
    "def get_id(pap):\n",
    "    return pap[\"id\"]"
   ]
  },
  {
   "cell_type": "markdown",
   "id": "9e927b34-ca5d-4282-a746-3999ab1a192d",
   "metadata": {},
   "source": [
    "## HyperGraph"
   ]
  },
  {
   "cell_type": "code",
   "execution_count": null,
   "id": "bd47e3ef-4d54-4f0e-b3e8-751c0348aa86",
   "metadata": {},
   "outputs": [],
   "source": [
    "paps_dict = { get_id(p):[a for a in get_authors(p)] for p in paps}\n",
    "\n",
    "H = hnx.Hypergraph(paps_dict)\n",
    "H.shape"
   ]
  },
  {
   "cell_type": "markdown",
   "id": "c2a7e1eb-f8c6-4590-ab03-5616c993239f",
   "metadata": {},
   "source": [
    "### Simple distributions"
   ]
  },
  {
   "cell_type": "code",
   "execution_count": null,
   "id": "55fa3bec-ffd9-4854-9db6-40236ae5bd83",
   "metadata": {},
   "outputs": [],
   "source": [
    "authors = list(H.nodes.items)"
   ]
  },
  {
   "cell_type": "code",
   "execution_count": null,
   "id": "a01be4ea-0f0e-4887-b35d-05ebbec37ded",
   "metadata": {},
   "outputs": [],
   "source": [
    "def plot_loghist(x, bins, ax=None, title = None):\n",
    "    if ax is None:\n",
    "        ax = plt.gca()\n",
    "    x = [x_ for x_ in x if x_>0]\n",
    "    hist, bins = np.histogram(x, bins=bins)\n",
    "    logbins = np.logspace(np.log10(bins[0]),np.log10(bins[-1]),len(bins))\n",
    "    ax.hist(x, bins=logbins)\n",
    "    ax.set_xscale('log')\n",
    "    if(title):\n",
    "        ax.set_xlabel(title)"
   ]
  },
  {
   "cell_type": "code",
   "execution_count": null,
   "id": "f30555d5-dfb3-46f5-8302-2f84d4f9d5d5",
   "metadata": {},
   "outputs": [],
   "source": [
    "fig, axes = plt.subplots(1,2, figsize=(8,4))\n",
    "edge_sizes = hnx.edge_size_dist(H)\n",
    "node_sizes = [H.degree(n, s=1) for n in H.nodes]\n",
    "plot_loghist(edge_sizes, 20, axes[0], title = \"# authors for paper\")\n",
    "plot_loghist(node_sizes, 20, axes[1], title = \"# papers for authors\")\n",
    "plt.show()"
   ]
  },
  {
   "cell_type": "markdown",
   "id": "80eec9db-bef4-403f-8d1a-661d9372a159",
   "metadata": {},
   "source": [
    "### Author List"
   ]
  },
  {
   "cell_type": "markdown",
   "id": "b103979a-9e64-412a-8b33-0cb45641deaf",
   "metadata": {},
   "source": [
    "### Connected Componets"
   ]
  },
  {
   "cell_type": "code",
   "execution_count": null,
   "id": "edb1b4f1-d55f-4057-b485-bee3921ae601",
   "metadata": {},
   "outputs": [],
   "source": [
    "comp_sizes = [[comp.shape, comp.nodes.items, comp.edges.items] for comp in tqdm(H.s_component_subgraphs())]\n",
    "print(\"There are \", len(comp_sizes), \" connected components\")\n",
    "sorted_comps = sorted(comp_sizes, key=lambda x: x[0])[::-1]"
   ]
  },
  {
   "cell_type": "code",
   "execution_count": null,
   "id": "4eaf7141-efe9-4297-a4ed-0fda6ccdd0b4",
   "metadata": {},
   "outputs": [],
   "source": [
    "plt.bar(range(len(sorted_comps)), [c[0][0] for c in sorted_comps])\n",
    "plt.ylim(0, 30)\n",
    "plt.title(\"Connected Components\")\n",
    "plt.show()"
   ]
  },
  {
   "cell_type": "markdown",
   "id": "4e59a066-e491-4f93-b7fa-c502b2e279f1",
   "metadata": {},
   "source": [
    "Here are some plots"
   ]
  },
  {
   "cell_type": "code",
   "execution_count": null,
   "id": "5ba82b1e-9b1a-4cd0-a385-7369979d9b1b",
   "metadata": {},
   "outputs": [],
   "source": [
    "np.random.seed(1)\n",
    "min_ = 20\n",
    "fig = plt.figure(figsize=(16, 8))\n",
    "# fig, axes = plt.subplots(nrows=1, ncols=3, figsize = (12, 4))\n",
    "for i in range(6):\n",
    "    h = H.restrict_to_nodes( sorted_comps[min_+i][1])\n",
    "    # h = h.toplexes(return_hyp=True)\n",
    "    plt.subplot(2, 3, i+1)\n",
    "    hnx.draw(h)\n",
    "    plt.title(\"[#\" + str(min_+i) + ']='+str(sorted_comps[min_+i][0][0]))\n"
   ]
  },
  {
   "cell_type": "markdown",
   "id": "763436c9-8e13-4d48-a473-5e35367e04d6",
   "metadata": {},
   "source": [
    "### Diameters and Distances"
   ]
  },
  {
   "cell_type": "markdown",
   "id": "cdfc3433-12da-4e3a-8010-eccd0e4d55bc",
   "metadata": {},
   "source": [
    "#### The largest component"
   ]
  },
  {
   "cell_type": "code",
   "execution_count": null,
   "id": "9079f5cf-d953-4c3f-b411-45ee520bb539",
   "metadata": {},
   "outputs": [],
   "source": [
    "# Diameter of the largest componet\n",
    "h_max = H.restrict_to_nodes(sorted_comps[0][1])\n",
    "print(\"[]=\", h_max.shape)\n",
    "print(\"edge_diameter = \", h_max.edge_diameter())"
   ]
  },
  {
   "cell_type": "markdown",
   "id": "694202da-53fa-4cde-ab11-86b60d7c800f",
   "metadata": {},
   "source": [
    "It requies lots of time to work with it, collapsing edges and nodes"
   ]
  },
  {
   "cell_type": "code",
   "execution_count": null,
   "id": "d18d5df3-8d4b-4af4-a258-15d8ce81c0c2",
   "metadata": {},
   "outputs": [],
   "source": [
    "h_max_c = h_max.collapse_nodes_and_edges()\n",
    "print(\"[] = \", h_max_c.shape)\n",
    "[h_max_c.diameter(), h_max_c.edge_diameter()]"
   ]
  },
  {
   "cell_type": "markdown",
   "id": "57256ca8-30bf-4604-bb04-744a7ab20ef5",
   "metadata": {},
   "source": [
    "Here is a distance between some authors"
   ]
  },
  {
   "cell_type": "code",
   "execution_count": null,
   "id": "414d56ed-0915-4c7a-814c-b6b7330ac58e",
   "metadata": {},
   "outputs": [],
   "source": [
    "au = list(h_max_c.nodes)\n",
    "a1, a2 = au[1], au[10]\n",
    "print(\"|(\", a1, \")-(\", a2, \")|=\", h_max_c.distance(a1, a2))"
   ]
  },
  {
   "cell_type": "markdown",
   "id": "1643c0d7-546a-4226-afed-3966056db06e",
   "metadata": {},
   "source": [
    "#### Smaller Cluster"
   ]
  },
  {
   "cell_type": "code",
   "execution_count": null,
   "id": "58cebc37-ff7c-4392-8fb6-25b912c44031",
   "metadata": {},
   "outputs": [],
   "source": [
    "np.random.seed(122)\n",
    "h = H.restrict_to_nodes(sorted_comps[5][1])\n",
    "# h = h.toplexes(return_hyp=True)\n",
    "hnx.draw(h)\n",
    "[h.diameter(s=1), h.edge_diameter()]"
   ]
  },
  {
   "cell_type": "code",
   "execution_count": null,
   "id": "be379505-104f-4d6d-ac2f-7aecd1923447",
   "metadata": {},
   "outputs": [],
   "source": [
    "au = list(h.nodes.items)\n",
    "a1, a2 = au[16], au[9]\n",
    "print(\"|'\", a1, \"'-'\", a2, \"'|=\", h.distance(a1, a2))"
   ]
  },
  {
   "cell_type": "markdown",
   "id": "db198d45-d469-4cbd-92e1-16154e7fa8a1",
   "metadata": {},
   "source": [
    "With s=2 this cluster is not connected, here are diameters and content of the sub-clusters"
   ]
  },
  {
   "cell_type": "markdown",
   "id": "f6253cea-c610-4f41-a1c9-a9c174a3b0c8",
   "metadata": {},
   "source": [
    "#### My Cluster"
   ]
  },
  {
   "cell_type": "code",
   "execution_count": null,
   "id": "243da810-820b-426a-9f2d-7ed8362cad58",
   "metadata": {},
   "outputs": [],
   "source": [
    "\"Luchinsky, A.V.\" in sorted_comps[0][1]"
   ]
  },
  {
   "cell_type": "code",
   "execution_count": null,
   "id": "79fc2b7e-fd5e-471c-95bc-a4e8f494824d",
   "metadata": {},
   "outputs": [],
   "source": [
    "np.where([\"Luchinsky, A.V.\" in cl[1] for cl in sorted_comps])"
   ]
  },
  {
   "cell_type": "code",
   "execution_count": null,
   "id": "65914bac-9e12-46a4-9a2b-9435bc4b4d61",
   "metadata": {},
   "outputs": [],
   "source": [
    "cl_luch = [cl for cl in sorted_comps if \"Luchinsky, A.V.\" in cl[1]]\n",
    "h_Luch = H.restrict_to_nodes(cl_luch[0][1])\n",
    "h_Luch.shape"
   ]
  },
  {
   "cell_type": "markdown",
   "id": "275aa803-9a48-4a76-8fbc-e058fee9c5df",
   "metadata": {},
   "source": [
    "## LineGraphs"
   ]
  },
  {
   "cell_type": "code",
   "execution_count": null,
   "id": "b5ac9f8d-3f5b-4883-9205-c5d27bab5fa6",
   "metadata": {},
   "outputs": [],
   "source": [
    "fig, axes = plt.subplots(1, 2, figsize = (12, 4))\n",
    "bh = h.bipartite()\n",
    "top = nx.bipartite.sets(bh)[0]\n",
    "pos = nx.bipartite_layout(bh, top)\n",
    "nx.draw(bh, with_labels = True, ax=axes[0], pos = pos)\n",
    "hnx.draw_bipartite_using_euler(h, pos=pos, ax=axes[1])"
   ]
  },
  {
   "cell_type": "markdown",
   "id": "a8a83ea8-b262-498d-b9fa-a393d06b5058",
   "metadata": {},
   "source": [
    "## Walks"
   ]
  },
  {
   "cell_type": "code",
   "execution_count": null,
   "id": "53e4f699-fae5-47f8-a6d3-d6dd765cef17",
   "metadata": {},
   "outputs": [],
   "source": [
    "h.diameter()"
   ]
  },
  {
   "cell_type": "code",
   "execution_count": null,
   "id": "028533cb-2197-4f44-81c3-66557ea633e8",
   "metadata": {},
   "outputs": [],
   "source": [
    "mat, rindex = h.adjacency_matrix(s=1, index=True)\n",
    "G = nx.from_numpy_array(mat.todense())"
   ]
  },
  {
   "cell_type": "code",
   "execution_count": null,
   "id": "f0f55a09-0248-4e3e-aa92-04e39d84d4cf",
   "metadata": {},
   "outputs": [],
   "source": [
    "h.incidence_dataframe().shape"
   ]
  },
  {
   "cell_type": "code",
   "execution_count": null,
   "id": "aae392c3-f518-422c-8f10-2d06cbd7519d",
   "metadata": {},
   "outputs": [],
   "source": [
    "rindex"
   ]
  },
  {
   "cell_type": "code",
   "execution_count": null,
   "id": "5ba462b1-75d7-456d-b0dc-67f481ee6c4b",
   "metadata": {},
   "outputs": [],
   "source": [
    "i1, i2  = 1, 12\n",
    "name1, name2 = rindex[i1], rindex[i2]\n",
    "h.distance(name1, name2)"
   ]
  },
  {
   "cell_type": "code",
   "execution_count": null,
   "id": "e5e9731d-650d-462d-8bf0-9f47d82e123b",
   "metadata": {},
   "outputs": [],
   "source": [
    "hb = h.bipartite()\n",
    "path = nx.shortest_path(hb, source=name1, target=name2)\n",
    "path"
   ]
  },
  {
   "cell_type": "code",
   "execution_count": null,
   "id": "746f84e0-b48a-46a6-abbc-af42ff2de828",
   "metadata": {},
   "outputs": [],
   "source": [
    "# # Check\n",
    "# np.all([\n",
    "#     h.incidence_dataframe().loc[name1,]['1637222'] == 1,\n",
    "#     h.incidence_dataframe().loc['Zhao, Qiang',]['1637222'] == 1,\n",
    "#     h.incidence_dataframe().loc['Zhao, Qiang',]['1254432'] == 1,\n",
    "#     h.incidence_dataframe().loc['Guo, Feng-Kun',]['1254432'] == 1,\n",
    "#     h.incidence_dataframe().loc['Guo, Feng-Kun',]['2778309'] == 1,\n",
    "#     h.incidence_dataframe().loc[name2,]['2778309'] == 1\n",
    "# ])    "
   ]
  },
  {
   "cell_type": "code",
   "execution_count": null,
   "id": "c0568135-57c1-4aba-be2c-3ea9834d2e93",
   "metadata": {},
   "outputs": [],
   "source": [
    "path_nodes = [a for a in path if a in h.nodes]\n",
    "path_edges = [a for a in path if a in h.edges]\n",
    "H_path = H.restrict_to_nodes(path_nodes).restrict_to_edges(path_edges)"
   ]
  },
  {
   "cell_type": "code",
   "execution_count": null,
   "id": "24279577-49e4-4bb7-a8ec-7c9426de3f4a",
   "metadata": {},
   "outputs": [],
   "source": [
    "# 1. Set up the hypergraph and find the path\n",
    "path = nx.shortest_path(hb, name1, name2)\n",
    "print(f\"The shortest path is: {path}\")"
   ]
  },
  {
   "cell_type": "code",
   "execution_count": null,
   "id": "4d6521d1-4175-4f4c-9a09-e53832f9e75d",
   "metadata": {},
   "outputs": [],
   "source": [
    "# 3. Create a subgraph and set colors for plotting\n",
    "# Separate the path into nodes and hyperedges\n",
    "path_nodes = [n for n in path if n in h.nodes()]\n",
    "path_edges = [e for e in path if e in h.edges()]"
   ]
  },
  {
   "cell_type": "code",
   "execution_count": null,
   "id": "ac905ed0-0bb5-4e0e-9fee-969a67c55dc4",
   "metadata": {},
   "outputs": [],
   "source": [
    "# Set custom colors for the nodes and edges\n",
    "node_colors = [\"blue\" if node in path_nodes else \"gray\" for node in h.nodes()]\n",
    "edge_colors = [\"red\" if edge in path_edges else \"lightgray\" for edge in h.edges()]\n",
    "np.random.seed(122)\n",
    "# 4. Plot the hypergraph with highlighted path\n",
    "ax = plt.gca()\n",
    "hnx.draw(h,  ax=ax,with_edge_labels = False, \n",
    "             nodes_kwargs={\"facecolors\": node_colors},\n",
    "    edges_kwargs={\"facecolors\": edge_colors, \"edgecolors\": \"black\"},\n",
    "\n",
    "        )\n",
    "ax.set_title(f\"Shortest Path from {path_nodes[0]} to {path_nodes[-1]}\")\n",
    "plt.show()\n",
    "print(f\"The shortest path is: {path}\")"
   ]
  },
  {
   "cell_type": "markdown",
   "id": "4eadcbde-0ac1-4d25-9daf-4fb1fe54591b",
   "metadata": {},
   "source": [
    "### Centrality"
   ]
  },
  {
   "cell_type": "code",
   "execution_count": null,
   "id": "dae568ce-e31f-43eb-ac62-3c2f9afcde5a",
   "metadata": {},
   "outputs": [],
   "source": [
    "h.diameter()"
   ]
  },
  {
   "cell_type": "code",
   "execution_count": null,
   "id": "af5fc1c7-fb94-4de4-81f0-071c44fe0298",
   "metadata": {},
   "outputs": [],
   "source": [
    "hnx.draw(h)\n",
    "print(\" shape\", h.shape)\n",
    "print(f\" diameter: {h.diameter()},\\t edges diameter: {h.edge_diameter()}\")"
   ]
  },
  {
   "cell_type": "code",
   "execution_count": null,
   "id": "f4467e38-2309-4a2d-81a9-3e82833a06e5",
   "metadata": {},
   "outputs": [],
   "source": [
    "cent_func_dict = {\n",
    "    \"closeness_centrality\":hnx.s_closeness_centrality,\n",
    "    \"betweenness_centrality\": hnx.s_betweenness_centrality,\n",
    "    \"harmonic_centrality\":hnx.s_harmonic_centrality\n",
    "    # \"harmonic_closeness_centrality\":hnx.s_harmonic_closeness_centrality\n",
    "}\n",
    "def get_cent_df(h, s=1, cent_func_name = \"closeness_centrality\"):\n",
    "    cent = cent_func_dict[cent_func_name](h, edges=0, s=s)\n",
    "    df = pd.DataFrame.from_dict(cent, orient=\"index\", columns=[\"cent\"]).reset_index()\n",
    "    df = df.rename(columns={\"index\":\"author\"})\n",
    "    df[\"s\"] = s\n",
    "    df[\"func_name\"] = cent_func_name\n",
    "    return df\n"
   ]
  },
  {
   "cell_type": "code",
   "execution_count": null,
   "id": "f04dbb77-92a3-4654-9a9c-86986cf46a51",
   "metadata": {},
   "outputs": [],
   "source": [
    "df_centrality = pd.DataFrame()\n",
    "for cent_func_name in cent_func_dict.keys():\n",
    "    print(cent_func_name)\n",
    "    for s in range(1, 5):\n",
    "        df_centrality = pd.concat([df_centrality, get_cent_df(h, s=s, cent_func_name=cent_func_name)])"
   ]
  },
  {
   "cell_type": "code",
   "execution_count": null,
   "id": "640548f2-800d-4514-b924-b1dde2a93fa0",
   "metadata": {},
   "outputs": [],
   "source": [
    "df_centrality"
   ]
  },
  {
   "cell_type": "code",
   "execution_count": null,
   "id": "af3027fa-2e88-4e65-bd1a-02cd454b0b37",
   "metadata": {},
   "outputs": [],
   "source": [
    "import plotnine as pq\n",
    "from plotnine import ggplot, aes, geom_point, geom_line, facet_wrap, theme"
   ]
  },
  {
   "cell_type": "code",
   "execution_count": null,
   "id": "97ead9c7-7e6c-44e9-8083-67fdd9d6ff71",
   "metadata": {},
   "outputs": [],
   "source": [
    "import seaborn as sns"
   ]
  },
  {
   "cell_type": "code",
   "execution_count": null,
   "id": "3dfddf6d-007f-4f47-880c-b7f319d84e8b",
   "metadata": {},
   "outputs": [],
   "source": [
    "df_centrality.query(\"func_name == 'closeness_centrality'\")"
   ]
  },
  {
   "cell_type": "code",
   "execution_count": null,
   "id": "6449791c-a5bc-4196-b75b-edea23284f96",
   "metadata": {},
   "outputs": [],
   "source": [
    "pd.pivot(df_centrality.query(\"author == 'Monteiro, A.P.'\"), index = \"s\", columns = [\"func_name\"], values = \"cent\")"
   ]
  },
  {
   "cell_type": "code",
   "execution_count": null,
   "id": "4bbb4f3e-50b8-4618-8797-b206ceb0c2b2",
   "metadata": {},
   "outputs": [],
   "source": [
    "pd.pivot(df_centrality.query(\"func_name == 'harmonic_centrality'\"), index = \"author\", columns = [\"s\"], values = \"cent\").sort_values(1, ascending=False)"
   ]
  },
  {
   "cell_type": "code",
   "execution_count": null,
   "id": "05140ff0-7e5d-4c69-9323-c6c4c55db98c",
   "metadata": {},
   "outputs": [],
   "source": [
    "ggplot(\n",
    "    df_centrality\n",
    ") + aes(x=\"s\", y=\"cent\", color = \"author\") + geom_line() + geom_point() + theme(legend_position=\"none\") + facet_wrap(\"func_name\", scales=\"free\")"
   ]
  },
  {
   "cell_type": "markdown",
   "id": "3c4e96b7-6534-4dcf-9d1f-2fa22b017ac4",
   "metadata": {},
   "source": [
    "### My attempt"
   ]
  },
  {
   "cell_type": "code",
   "execution_count": null,
   "id": "8ba0ab82-8604-45c0-becf-3f9212ec7bc8",
   "metadata": {},
   "outputs": [],
   "source": [
    "nodes = list(h.nodes.items)\n",
    "v = nodes[2]"
   ]
  },
  {
   "cell_type": "code",
   "execution_count": null,
   "id": "7f5ab95e-9afc-4e34-a4d6-5a7419834482",
   "metadata": {},
   "outputs": [],
   "source": [
    "?h.distance"
   ]
  },
  {
   "cell_type": "code",
   "execution_count": null,
   "id": "7a0bd347-fa14-4d05-ab82-8dfa1e93bab8",
   "metadata": {},
   "outputs": [],
   "source": [
    "import warnings"
   ]
  },
  {
   "cell_type": "code",
   "execution_count": null,
   "id": "7fb077de-5e40-4a6f-8785-08f6afed8d0c",
   "metadata": {},
   "outputs": [],
   "source": [
    "hnx.s_closeness_centrality(h, edges=0, s=4)"
   ]
  },
  {
   "cell_type": "code",
   "execution_count": null,
   "id": "7f939412-ab8b-461f-9d4b-14c41d9f5b89",
   "metadata": {},
   "outputs": [],
   "source": [
    "?hnx.s_closeness_centrality"
   ]
  },
  {
   "cell_type": "code",
   "execution_count": null,
   "id": "cf0726c4-729a-433e-a267-92605d9bcddc",
   "metadata": {},
   "outputs": [],
   "source": [
    "with warnings.catch_warnings():\n",
    "    "
   ]
  },
  {
   "cell_type": "code",
   "execution_count": null,
   "id": "5efd442e-5d34-407a-9538-772eb55b9b3a",
   "metadata": {},
   "outputs": [],
   "source": [
    "def centrality(h, v, s=1):\n",
    "    Es = [n for n in h.nodes if (h.distance(v, n) >= s) and  (n != v)]\n",
    "    dists = [h.distance(v, f, s=s) for f in Es]\n",
    "    if len(dists)>0:\n",
    "        return (len(Es)-1)/sum(dists)\n",
    "    else:\n",
    "        return 0"
   ]
  },
  {
   "cell_type": "code",
   "execution_count": null,
   "id": "49098abf-f28f-4c41-8c8d-43ac89f1549e",
   "metadata": {},
   "outputs": [],
   "source": [
    "def harmonic_centrality(h, v, s=1):\n",
    "    Es = [n for n in h.nodes if (h.distance(v, n) >= s) and  (n != v)]\n",
    "    dists = [h.distance(v, f, s=s) for f in Es]\n",
    "    if len(dists)>1:\n",
    "        return 1/(len(Es)-1)*sum(1/d for d in dists)\n",
    "    else:\n",
    "        return 0"
   ]
  },
  {
   "cell_type": "code",
   "execution_count": null,
   "id": "82b71287-4f6f-400e-b2ca-702c2363ae73",
   "metadata": {},
   "outputs": [],
   "source": [
    "cent_list = [(n, centrality(h, n, s=2)) for n in h.nodes]\n",
    "cent_list[np.argmax([c[1] for c in cent_list])]"
   ]
  },
  {
   "cell_type": "code",
   "execution_count": null,
   "id": "46852922-98a2-4811-b5a8-5f3947c3757a",
   "metadata": {},
   "outputs": [],
   "source": [
    "?h.distance"
   ]
  },
  {
   "cell_type": "code",
   "execution_count": null,
   "id": "6167c906-3f20-464e-90bf-a41ad82cba85",
   "metadata": {},
   "outputs": [],
   "source": [
    "h.distance(nodes[0], nodes[1], s=2)"
   ]
  },
  {
   "cell_type": "code",
   "execution_count": null,
   "id": "6f119981-dbda-42b9-8457-44fcb3d754b5",
   "metadata": {},
   "outputs": [],
   "source": [
    "cent_list = [(n, harmonic_centrality(h, n, s=3)) for n in h.nodes]\n",
    "cent_list[np.argmax([c[1] for c in cent_list])]"
   ]
  },
  {
   "cell_type": "code",
   "execution_count": null,
   "id": "2d195f48-0c54-4442-8d76-5fd538e934d5",
   "metadata": {},
   "outputs": [],
   "source": []
  }
 ],
 "metadata": {
  "kernelspec": {
   "display_name": "Python 3 (ipykernel)",
   "language": "python",
   "name": "python3"
  },
  "language_info": {
   "codemirror_mode": {
    "name": "ipython",
    "version": 3
   },
   "file_extension": ".py",
   "mimetype": "text/x-python",
   "name": "python",
   "nbconvert_exporter": "python",
   "pygments_lexer": "ipython3",
   "version": "3.13.7"
  }
 },
 "nbformat": 4,
 "nbformat_minor": 5
}
